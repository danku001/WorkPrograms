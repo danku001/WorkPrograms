{
 "cells": [
  {
   "cell_type": "code",
   "execution_count": null,
   "id": "4ffb854c-72ce-478f-8f12-58f66d174c18",
   "metadata": {},
   "outputs": [],
   "source": [
    "\"\"\"\n",
    "Function to clean data from the file\n",
    "\"\"\""
   ]
  },
  {
   "cell_type": "markdown",
   "id": "5dd2d8ed-5566-4acc-ac58-60970c003f19",
   "metadata": {},
   "source": [
    "### Importing the necessary libraries ###"
   ]
  },
  {
   "cell_type": "code",
   "execution_count": null,
   "id": "32dc71be-99a8-4368-a9bc-d697cfef0f74",
   "metadata": {},
   "outputs": [],
   "source": [
    "import os\n",
    "import oschmod\n",
    "import pandas as pd\n",
    "import matplotlib.pyplot as plt"
   ]
  },
  {
   "cell_type": "markdown",
   "id": "c558433e-d575-4cd7-8b9c-12e6b43fa3e9",
   "metadata": {},
   "source": [
    "#### Functions to accomplish things ####"
   ]
  },
  {
   "cell_type": "code",
   "execution_count": null,
   "id": "4d331396-26fa-4df8-96c3-a93c63574b9c",
   "metadata": {},
   "outputs": [],
   "source": [
    "def listFiles( PathToFile ):\n",
    "    \"\"\" Function to create a list of files\n",
    "         in a directory\n",
    "\n",
    "         Working directory needs to be the same as the\n",
    "         location of all the files.\n",
    "         \n",
    "         Keyword arguments:\n",
    "             PathToFile -> Raw string or string to directory\n",
    "\n",
    "\n",
    "         Return:\n",
    "             ret -> list of valid files in directory\n",
    "    \"\"\"\n",
    "    os.chdir( PathToFile )\n",
    "    tempFiles = os.listdir( path = os.getcwd() )\n",
    "    ret = []\n",
    "    \n",
    "    for fi in tempFiles:\n",
    "        if os.path.isfile( fi ):\n",
    "            ret.append(fi)\n",
    "\n",
    "    return ret"
   ]
  },
  {
   "cell_type": "code",
   "execution_count": null,
   "id": "fb6c46d2-b7e1-4b1d-aa59-c3a4573947cc",
   "metadata": {},
   "outputs": [],
   "source": [
    "def dataCleaner( data ):\n",
    "    \"\"\" Function to clean all the data\n",
    "        \n",
    "        Working directory needs to be the same as the location of all the files.\n",
    "        \n",
    "        keyword arguments:\n",
    "            data -> File Name\n",
    "        \n",
    "        Return:\n",
    "            *returns the dataframe*\n",
    "    \"\"\"\n",
    "    ## Reading the data into a pandas dataframe\n",
    "    df = pd.read_csv( data, header = None, low_memory = False )\n",
    "    \n",
    "    ## Separating the data intop different columns\n",
    "    tempStr = '(\\d{4})'\n",
    "    df[['PItag', 'Value', 'Date']] = df[0].str.split( pat = tempStr,\n",
    "                                                     n = 1, expand = True,\n",
    "                                                     regex = True )\n",
    "    df.drop( columns = 0, inplace = True )\n",
    "    \n",
    "    ## Removing invalid text from data\n",
    "    word_pat = \"\\[A-Za-z]*\"\n",
    "    date_pat = \"^\\d{1,2}[/]\\d{1,2}[/]\\d{4}\\s*\\d{1,2}\\W\\d{1,2}\\W\\d{2}\\s*\\w{2}\"\n",
    "    \n",
    "    filt1 = df['Value'].str.strip()\n",
    "    filt1 = filt1.str.contains( word_pat )\n",
    "    \n",
    "    filt2 = df['Date'].str.strip()\n",
    "    filt2 = filt2.str.contains( date_pat )\n",
    "    \n",
    "    temp_df = df[~filt1]\n",
    "    temp_df = temp_df[filt2]\n",
    "    \n",
    "    ##Converting to appropriate values\n",
    "    temp_df['Value'] = pd.to_numeric( temp_df['Value'], downcast = 'integer' )\n",
    "    temp_df['Date'] = pd.to_datetime( temp_df['Date'] ).dt.strftime( '%m/%d/%Y %H:%M:%S' )\n",
    "    temp_df['Date'] = pd.to_datetime( temp_df['Date'], format = '%m/%d/%Y  %H:%M:%S' )\n",
    "    \n",
    "    return temp_df\n",
    "    "
   ]
  },
  {
   "cell_type": "code",
   "execution_count": null,
   "id": "3fe7fc1b-dcf8-4603-a375-81dc3e439c91",
   "metadata": {},
   "outputs": [],
   "source": [
    "fiLoc = input('Path to File Location: ')"
   ]
  },
  {
   "cell_type": "code",
   "execution_count": null,
   "id": "7bac18fb-765b-4565-95d6-c8228135c9e8",
   "metadata": {},
   "outputs": [],
   "source": [
    "#print( *( val for val in listFiles(fiLoc) ), sep ='\\n' )"
   ]
  },
  {
   "cell_type": "code",
   "execution_count": null,
   "id": "2bb35911-3790-4d9f-bc50-57b8ce2027b7",
   "metadata": {},
   "outputs": [],
   "source": [
    "cleanFile = r''\n",
    "for val in listFiles(fiLoc):\n",
    "    #call data cleaner\n",
    "    oschmod.set_mode( cleanFile , 'a+rwx' )\n",
    "    clean_df = dataCleaner( val )\n",
    "    clean_df.to_pickle(cleanFile + \"\\\\\" + val[:-3] + \"pkl\")"
   ]
  },
  {
   "cell_type": "code",
   "execution_count": null,
   "id": "5301f4e8-166b-4ac6-b0e6-b79ddf053564",
   "metadata": {},
   "outputs": [],
   "source": []
  }
 ],
 "metadata": {
  "kernelspec": {
   "display_name": "Python 3 (ipykernel)",
   "language": "python",
   "name": "python3"
  },
  "language_info": {
   "codemirror_mode": {
    "name": "ipython",
    "version": 3
   },
   "file_extension": ".py",
   "mimetype": "text/x-python",
   "name": "python",
   "nbconvert_exporter": "python",
   "pygments_lexer": "ipython3",
   "version": "3.9.5"
  }
 },
 "nbformat": 4,
 "nbformat_minor": 5
}
