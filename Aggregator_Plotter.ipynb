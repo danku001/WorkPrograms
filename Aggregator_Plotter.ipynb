{
 "cells": [
  {
   "cell_type": "markdown",
   "id": "924005f8-ae6e-4a00-82a9-cf9a387b4c01",
   "metadata": {},
   "source": [
    "#### Notebook to plot voltage vs kVA  ####"
   ]
  },
  {
   "cell_type": "code",
   "execution_count": null,
   "id": "2c9171fe-8f80-4806-8904-07e72418b75b",
   "metadata": {},
   "outputs": [],
   "source": [
    "import os\n",
    "import pandas as pd\n",
    "import matplotlib.pyplot as plt"
   ]
  },
  {
   "cell_type": "code",
   "execution_count": null,
   "id": "9972f1d2-c845-46d2-8fa9-96af489c67a0",
   "metadata": {},
   "outputs": [],
   "source": [
    "path = input( \"Enter path to clean data\" )\n",
    "os.chdir( path )"
   ]
  },
  {
   "cell_type": "code",
   "execution_count": null,
   "id": "6255ac60-f376-4f1f-afce-3cc8fba76328",
   "metadata": {},
   "outputs": [],
   "source": [
    "df_x = pd.read_pickle(\"filename.pkl\")\n"
   ]
  },
  {
   "cell_type": "code",
   "execution_count": null,
   "id": "6a79c950-9592-4a1c-86a2-937dcdcff417",
   "metadata": {},
   "outputs": [],
   "source": [
    "df_x.head()"
   ]
  },
  {
   "cell_type": "code",
   "execution_count": null,
   "id": "ef5818c2-9654-4d4a-a8c6-b610c62fd670",
   "metadata": {},
   "outputs": [],
   "source": [
    "df_x.plot(x = 'Date', y = 'Value', kind = 'scatter',\n",
    "          title = 'Phase A Bus Voltage',\n",
    "          ylabel = 'Voltage (V)',\n",
    "          rot = 45 )"
   ]
  },
  {
   "cell_type": "code",
   "execution_count": null,
   "id": "f15cd6c3-dd3d-4cfd-8a0a-26bd77e4981e",
   "metadata": {},
   "outputs": [],
   "source": [
    "df_x.groupby( pd.Grouper( key = 'Date',\n",
    "                         axis = 0, freq = '2D' ) ).mean().plot(ylabel = 'Voltage (V)', \n",
    "                                                                 legend = False,\n",
    "                                                                 title = 'Aggregated Plot of EagleWorth voltage for month of January')\n",
    "plt.tight_layout()\n",
    "plt.gcf().set_size_inches(8, 5)\n",
    "plt.savefig('location and filename',dpi=200,\n",
    "           pad_inches = 0.1, facecolor = 'auto')\n",
    "                         "
   ]
  },
  {
   "cell_type": "code",
   "execution_count": null,
   "id": "1d0a1c9c-8a65-40c5-a941-2c729d782280",
   "metadata": {},
   "outputs": [],
   "source": []
  }
 ],
 "metadata": {
  "kernelspec": {
   "display_name": "Python 3 (ipykernel)",
   "language": "python",
   "name": "python3"
  },
  "language_info": {
   "codemirror_mode": {
    "name": "ipython",
    "version": 3
   },
   "file_extension": ".py",
   "mimetype": "text/x-python",
   "name": "python",
   "nbconvert_exporter": "python",
   "pygments_lexer": "ipython3",
   "version": "3.9.5"
  }
 },
 "nbformat": 4,
 "nbformat_minor": 5
}
